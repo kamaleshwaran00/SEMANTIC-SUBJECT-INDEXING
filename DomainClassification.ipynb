{
 "cells": [
  {
   "cell_type": "code",
   "execution_count": 1,
   "id": "6e2f08d8",
   "metadata": {},
   "outputs": [],
   "source": [
    "import numpy as np # linear algebra\n",
    "import pandas as pd # data processing, CSV file I/O (e.g. pd.read_csv)\n",
    "import matplotlib.pyplot as plt\n",
    "import seaborn as sns\n",
    "from sklearn.model_selection import train_test_split\n",
    "from nltk.corpus import stopwords\n",
    "import tensorflow as tf\n",
    "from tensorflow.keras.preprocessing.text import Tokenizer\n",
    "from tensorflow.keras.preprocessing.sequence import pad_sequences\n",
    "from sklearn.metrics import confusion_matrix\n",
    "\n",
    "sns.set_style('darkgrid')"
   ]
  },
  {
   "cell_type": "code",
   "execution_count": 2,
   "id": "3192f3e3",
   "metadata": {},
   "outputs": [
    {
     "data": {
      "text/html": [
       "<div>\n",
       "<style scoped>\n",
       "    .dataframe tbody tr th:only-of-type {\n",
       "        vertical-align: middle;\n",
       "    }\n",
       "\n",
       "    .dataframe tbody tr th {\n",
       "        vertical-align: top;\n",
       "    }\n",
       "\n",
       "    .dataframe thead th {\n",
       "        text-align: right;\n",
       "    }\n",
       "</style>\n",
       "<table border=\"1\" class=\"dataframe\">\n",
       "  <thead>\n",
       "    <tr style=\"text-align: right;\">\n",
       "      <th></th>\n",
       "      <th>ArticleId</th>\n",
       "      <th>Text</th>\n",
       "      <th>Category</th>\n",
       "    </tr>\n",
       "  </thead>\n",
       "  <tbody>\n",
       "    <tr>\n",
       "      <th>0</th>\n",
       "      <td>1833</td>\n",
       "      <td>worldcom ex-boss launches defence lawyers defe...</td>\n",
       "      <td>business</td>\n",
       "    </tr>\n",
       "    <tr>\n",
       "      <th>1</th>\n",
       "      <td>154</td>\n",
       "      <td>german business confidence slides german busin...</td>\n",
       "      <td>business</td>\n",
       "    </tr>\n",
       "    <tr>\n",
       "      <th>2</th>\n",
       "      <td>1101</td>\n",
       "      <td>bbc poll indicates economic gloom citizens in ...</td>\n",
       "      <td>business</td>\n",
       "    </tr>\n",
       "    <tr>\n",
       "      <th>3</th>\n",
       "      <td>1976</td>\n",
       "      <td>lifestyle  governs mobile choice  faster  bett...</td>\n",
       "      <td>tech</td>\n",
       "    </tr>\n",
       "    <tr>\n",
       "      <th>4</th>\n",
       "      <td>917</td>\n",
       "      <td>enron bosses in $168m payout eighteen former e...</td>\n",
       "      <td>business</td>\n",
       "    </tr>\n",
       "    <tr>\n",
       "      <th>...</th>\n",
       "      <td>...</td>\n",
       "      <td>...</td>\n",
       "      <td>...</td>\n",
       "    </tr>\n",
       "    <tr>\n",
       "      <th>1485</th>\n",
       "      <td>857</td>\n",
       "      <td>double eviction from big brother model caprice...</td>\n",
       "      <td>entertainment</td>\n",
       "    </tr>\n",
       "    <tr>\n",
       "      <th>1486</th>\n",
       "      <td>325</td>\n",
       "      <td>dj double act revamp chart show dj duo jk and ...</td>\n",
       "      <td>entertainment</td>\n",
       "    </tr>\n",
       "    <tr>\n",
       "      <th>1487</th>\n",
       "      <td>1590</td>\n",
       "      <td>weak dollar hits reuters revenues at media gro...</td>\n",
       "      <td>business</td>\n",
       "    </tr>\n",
       "    <tr>\n",
       "      <th>1488</th>\n",
       "      <td>1587</td>\n",
       "      <td>apple ipod family expands market apple has exp...</td>\n",
       "      <td>tech</td>\n",
       "    </tr>\n",
       "    <tr>\n",
       "      <th>1489</th>\n",
       "      <td>538</td>\n",
       "      <td>santy worm makes unwelcome visit thousands of ...</td>\n",
       "      <td>tech</td>\n",
       "    </tr>\n",
       "  </tbody>\n",
       "</table>\n",
       "<p>1490 rows × 3 columns</p>\n",
       "</div>"
      ],
      "text/plain": [
       "      ArticleId                                               Text  \\\n",
       "0          1833  worldcom ex-boss launches defence lawyers defe...   \n",
       "1           154  german business confidence slides german busin...   \n",
       "2          1101  bbc poll indicates economic gloom citizens in ...   \n",
       "3          1976  lifestyle  governs mobile choice  faster  bett...   \n",
       "4           917  enron bosses in $168m payout eighteen former e...   \n",
       "...         ...                                                ...   \n",
       "1485        857  double eviction from big brother model caprice...   \n",
       "1486        325  dj double act revamp chart show dj duo jk and ...   \n",
       "1487       1590  weak dollar hits reuters revenues at media gro...   \n",
       "1488       1587  apple ipod family expands market apple has exp...   \n",
       "1489        538  santy worm makes unwelcome visit thousands of ...   \n",
       "\n",
       "           Category  \n",
       "0          business  \n",
       "1          business  \n",
       "2          business  \n",
       "3              tech  \n",
       "4          business  \n",
       "...             ...  \n",
       "1485  entertainment  \n",
       "1486  entertainment  \n",
       "1487       business  \n",
       "1488           tech  \n",
       "1489           tech  \n",
       "\n",
       "[1490 rows x 3 columns]"
      ]
     },
     "execution_count": 2,
     "metadata": {},
     "output_type": "execute_result"
    }
   ],
   "source": [
    "df = pd.read_csv('BBC News Train.csv', sep=',')\n",
    "df"
   ]
  },
  {
   "cell_type": "code",
   "execution_count": 3,
   "id": "870329d7",
   "metadata": {},
   "outputs": [
    {
     "name": "stdout",
     "output_type": "stream",
     "text": [
      "<class 'pandas.core.frame.DataFrame'>\n",
      "RangeIndex: 1490 entries, 0 to 1489\n",
      "Data columns (total 3 columns):\n",
      " #   Column     Non-Null Count  Dtype \n",
      "---  ------     --------------  ----- \n",
      " 0   ArticleId  1490 non-null   int64 \n",
      " 1   Text       1490 non-null   object\n",
      " 2   Category   1490 non-null   object\n",
      "dtypes: int64(1), object(2)\n",
      "memory usage: 35.0+ KB\n"
     ]
    }
   ],
   "source": [
    "df.info()"
   ]
  },
  {
   "cell_type": "code",
   "execution_count": 4,
   "id": "e564b4ba",
   "metadata": {},
   "outputs": [
    {
     "data": {
      "text/plain": [
       "sport            346\n",
       "business         336\n",
       "politics         274\n",
       "entertainment    273\n",
       "tech             261\n",
       "Name: Category, dtype: int64"
      ]
     },
     "execution_count": 4,
     "metadata": {},
     "output_type": "execute_result"
    }
   ],
   "source": [
    "df.Category.value_counts()"
   ]
  },
  {
   "cell_type": "code",
   "execution_count": 5,
   "id": "958ee4bc",
   "metadata": {},
   "outputs": [],
   "source": [
    "stopwords = set(stopwords.words('english'))"
   ]
  },
  {
   "cell_type": "code",
   "execution_count": 6,
   "id": "3b90ffe2",
   "metadata": {},
   "outputs": [
    {
     "data": {
      "text/plain": [
       "{'a',\n",
       " 'above',\n",
       " 'don',\n",
       " 'for',\n",
       " 'his',\n",
       " 'is',\n",
       " 'more',\n",
       " 'now',\n",
       " 'off',\n",
       " 're',\n",
       " 'too',\n",
       " 'until',\n",
       " \"wasn't\",\n",
       " 'we',\n",
       " 'wouldn'}"
      ]
     },
     "execution_count": 6,
     "metadata": {},
     "output_type": "execute_result"
    }
   ],
   "source": [
    "set(list(stopwords)[0:15]) #showing only the first 15 elements of the stopwords set"
   ]
  },
  {
   "cell_type": "code",
   "execution_count": 7,
   "id": "cc1ac5f0",
   "metadata": {},
   "outputs": [
    {
     "data": {
      "text/plain": [
       "179"
      ]
     },
     "execution_count": 7,
     "metadata": {},
     "output_type": "execute_result"
    }
   ],
   "source": [
    "len(stopwords)"
   ]
  },
  {
   "cell_type": "code",
   "execution_count": 8,
   "id": "70aa000f",
   "metadata": {},
   "outputs": [],
   "source": [
    "contents_clean = []\n",
    "for content_clean in df.Text:\n",
    "    for word in stopwords:\n",
    "        token = \" \" + word + \" \"\n",
    "        content_clean = content_clean.replace(token, \" \")\n",
    "    contents_clean.append(content_clean)"
   ]
  },
  {
   "cell_type": "code",
   "execution_count": 9,
   "id": "3fa57f64",
   "metadata": {},
   "outputs": [],
   "source": [
    "df['content_clean'] = np.array(contents_clean)"
   ]
  },
  {
   "cell_type": "code",
   "execution_count": 10,
   "id": "0e01354e",
   "metadata": {},
   "outputs": [
    {
     "data": {
      "text/html": [
       "<div>\n",
       "<style scoped>\n",
       "    .dataframe tbody tr th:only-of-type {\n",
       "        vertical-align: middle;\n",
       "    }\n",
       "\n",
       "    .dataframe tbody tr th {\n",
       "        vertical-align: top;\n",
       "    }\n",
       "\n",
       "    .dataframe thead th {\n",
       "        text-align: right;\n",
       "    }\n",
       "</style>\n",
       "<table border=\"1\" class=\"dataframe\">\n",
       "  <thead>\n",
       "    <tr style=\"text-align: right;\">\n",
       "      <th></th>\n",
       "      <th>ArticleId</th>\n",
       "      <th>Text</th>\n",
       "      <th>Category</th>\n",
       "      <th>content_clean</th>\n",
       "    </tr>\n",
       "  </thead>\n",
       "  <tbody>\n",
       "    <tr>\n",
       "      <th>0</th>\n",
       "      <td>1833</td>\n",
       "      <td>worldcom ex-boss launches defence lawyers defe...</td>\n",
       "      <td>business</td>\n",
       "      <td>worldcom ex-boss launches defence lawyers defe...</td>\n",
       "    </tr>\n",
       "    <tr>\n",
       "      <th>1</th>\n",
       "      <td>154</td>\n",
       "      <td>german business confidence slides german busin...</td>\n",
       "      <td>business</td>\n",
       "      <td>german business confidence slides german busin...</td>\n",
       "    </tr>\n",
       "    <tr>\n",
       "      <th>2</th>\n",
       "      <td>1101</td>\n",
       "      <td>bbc poll indicates economic gloom citizens in ...</td>\n",
       "      <td>business</td>\n",
       "      <td>bbc poll indicates economic gloom citizens maj...</td>\n",
       "    </tr>\n",
       "    <tr>\n",
       "      <th>3</th>\n",
       "      <td>1976</td>\n",
       "      <td>lifestyle  governs mobile choice  faster  bett...</td>\n",
       "      <td>tech</td>\n",
       "      <td>lifestyle  governs mobile choice  faster  bett...</td>\n",
       "    </tr>\n",
       "    <tr>\n",
       "      <th>4</th>\n",
       "      <td>917</td>\n",
       "      <td>enron bosses in $168m payout eighteen former e...</td>\n",
       "      <td>business</td>\n",
       "      <td>enron bosses $168m payout eighteen former enro...</td>\n",
       "    </tr>\n",
       "    <tr>\n",
       "      <th>5</th>\n",
       "      <td>1582</td>\n",
       "      <td>howard  truanted to play snooker  conservative...</td>\n",
       "      <td>politics</td>\n",
       "      <td>howard  truanted play snooker  conservative le...</td>\n",
       "    </tr>\n",
       "    <tr>\n",
       "      <th>6</th>\n",
       "      <td>651</td>\n",
       "      <td>wales silent on grand slam talk rhys williams ...</td>\n",
       "      <td>sport</td>\n",
       "      <td>wales silent grand slam talk rhys williams say...</td>\n",
       "    </tr>\n",
       "    <tr>\n",
       "      <th>7</th>\n",
       "      <td>1797</td>\n",
       "      <td>french honour for director parker british film...</td>\n",
       "      <td>entertainment</td>\n",
       "      <td>french honour director parker british film dir...</td>\n",
       "    </tr>\n",
       "    <tr>\n",
       "      <th>8</th>\n",
       "      <td>2034</td>\n",
       "      <td>car giant hit by mercedes slump a slump in pro...</td>\n",
       "      <td>business</td>\n",
       "      <td>car giant hit mercedes slump slump profitabili...</td>\n",
       "    </tr>\n",
       "    <tr>\n",
       "      <th>9</th>\n",
       "      <td>1866</td>\n",
       "      <td>fockers fuel festive film chart comedy meet th...</td>\n",
       "      <td>entertainment</td>\n",
       "      <td>fockers fuel festive film chart comedy meet fo...</td>\n",
       "    </tr>\n",
       "  </tbody>\n",
       "</table>\n",
       "</div>"
      ],
      "text/plain": [
       "   ArticleId                                               Text  \\\n",
       "0       1833  worldcom ex-boss launches defence lawyers defe...   \n",
       "1        154  german business confidence slides german busin...   \n",
       "2       1101  bbc poll indicates economic gloom citizens in ...   \n",
       "3       1976  lifestyle  governs mobile choice  faster  bett...   \n",
       "4        917  enron bosses in $168m payout eighteen former e...   \n",
       "5       1582  howard  truanted to play snooker  conservative...   \n",
       "6        651  wales silent on grand slam talk rhys williams ...   \n",
       "7       1797  french honour for director parker british film...   \n",
       "8       2034  car giant hit by mercedes slump a slump in pro...   \n",
       "9       1866  fockers fuel festive film chart comedy meet th...   \n",
       "\n",
       "        Category                                      content_clean  \n",
       "0       business  worldcom ex-boss launches defence lawyers defe...  \n",
       "1       business  german business confidence slides german busin...  \n",
       "2       business  bbc poll indicates economic gloom citizens maj...  \n",
       "3           tech  lifestyle  governs mobile choice  faster  bett...  \n",
       "4       business  enron bosses $168m payout eighteen former enro...  \n",
       "5       politics  howard  truanted play snooker  conservative le...  \n",
       "6          sport  wales silent grand slam talk rhys williams say...  \n",
       "7  entertainment  french honour director parker british film dir...  \n",
       "8       business  car giant hit mercedes slump slump profitabili...  \n",
       "9  entertainment  fockers fuel festive film chart comedy meet fo...  "
      ]
     },
     "execution_count": 10,
     "metadata": {},
     "output_type": "execute_result"
    }
   ],
   "source": [
    "df.head(10)"
   ]
  },
  {
   "cell_type": "code",
   "execution_count": 11,
   "id": "e524098c",
   "metadata": {},
   "outputs": [
    {
     "name": "stderr",
     "output_type": "stream",
     "text": [
      "C:\\Users\\ADMIN\\anaconda32\\lib\\site-packages\\seaborn\\_decorators.py:36: FutureWarning: Pass the following variable as a keyword arg: x. From version 0.12, the only valid positional argument will be `data`, and passing other arguments without an explicit keyword will result in an error or misinterpretation.\n",
      "  warnings.warn(\n"
     ]
    },
    {
     "data": {
      "text/plain": [
       "<AxesSubplot:xlabel='Category', ylabel='count'>"
      ]
     },
     "execution_count": 11,
     "metadata": {},
     "output_type": "execute_result"
    },
    {
     "data": {
      "image/png": "[encoded data removed]",
      "text/plain": [
       "<Figure size 864x432 with 1 Axes>"
      ]
     },
     "metadata": {},
     "output_type": "display_data"
    }
   ],
   "source": [
    "plt.figure(figsize = (12, 6))\n",
    "sns.countplot(df.Category)"
   ]
  },
  {
   "cell_type": "code",
   "execution_count": 12,
   "id": "7c0be619",
   "metadata": {},
   "outputs": [],
   "source": [
    "X = list(df.content_clean)\n",
    "y = list(df.Category)"
   ]
  },
  {
   "cell_type": "code",
   "execution_count": 13,
   "id": "4169769f",
   "metadata": {},
   "outputs": [],
   "source": [
    "X_train, X_test, y_train, y_test = train_test_split(X, y, train_size = 0.8, random_state = 42, shuffle = True)"
   ]
  },
  {
   "cell_type": "code",
   "execution_count": 14,
   "id": "81a5bbfc",
   "metadata": {},
   "outputs": [
    {
     "name": "stdout",
     "output_type": "stream",
     "text": [
      "Frequency of unique labels in the train set:\n",
      "[['business' 'entertainment' 'politics' 'sport' 'tech']\n",
      " ['261' '227' '218' '283' '203']]\n"
     ]
    }
   ],
   "source": [
    "unique_elements_train, counts_elements_train = np.unique(y_train, return_counts=True)\n",
    "print(\"Frequency of unique labels in the train set:\")\n",
    "print(np.asarray((unique_elements_train, counts_elements_train)))"
   ]
  },
  {
   "cell_type": "code",
   "execution_count": 15,
   "id": "e94f669f",
   "metadata": {},
   "outputs": [
    {
     "name": "stdout",
     "output_type": "stream",
     "text": [
      "Frequency of unique labels in the test set:\n",
      "[['business' 'entertainment' 'politics' 'sport' 'tech']\n",
      " ['75' '46' '56' '63' '58']]\n"
     ]
    }
   ],
   "source": [
    "unique_elements_test, counts_elements_test = np.unique(y_test, return_counts=True)\n",
    "print(\"Frequency of unique labels in the test set:\")\n",
    "print(np.asarray((unique_elements_test, counts_elements_test)))"
   ]
  },
  {
   "cell_type": "code",
   "execution_count": 16,
   "id": "a7956f40",
   "metadata": {},
   "outputs": [
    {
     "name": "stdout",
     "output_type": "stream",
     "text": [
      "1192\n",
      "1192\n",
      "298\n",
      "298\n"
     ]
    }
   ],
   "source": [
    "print(len(X_train))\n",
    "print(len(y_train))\n",
    "print(len(X_test))\n",
    "print(len(y_test))"
   ]
  },
  {
   "cell_type": "code",
   "execution_count": 17,
   "id": "3cc6cde7",
   "metadata": {},
   "outputs": [],
   "source": [
    "vocab_size = 15000\n",
    "embedding_dim = 32\n",
    "max_length = 256\n",
    "trunc_type='post'\n",
    "padding_type='post'\n",
    "oov_tok = \"<OOV>\""
   ]
  },
  {
   "cell_type": "code",
   "execution_count": 18,
   "id": "ed5fe9f5",
   "metadata": {},
   "outputs": [],
   "source": [
    "tokenizer = Tokenizer(num_words = vocab_size, oov_token=oov_tok)\n",
    "tokenizer.fit_on_texts(X_train)\n",
    "word_index = tokenizer.word_index"
   ]
  },
  {
   "cell_type": "code",
   "execution_count": 19,
   "id": "e7f3aee5",
   "metadata": {},
   "outputs": [
    {
     "name": "stdout",
     "output_type": "stream",
     "text": [
      "298\n",
      "(298, 256)\n"
     ]
    }
   ],
   "source": [
    "X_train_sqncs = tokenizer.texts_to_sequences(X_train)\n",
    "X_train_padded = pad_sequences(X_train_sqncs, padding=padding_type, maxlen=max_length)\n",
    "\n",
    "X_test_sqncs = tokenizer.texts_to_sequences(X_test)\n",
    "X_test_padded = pad_sequences(X_test_sqncs, padding=padding_type, maxlen=max_length)\n",
    "\n",
    "print(len(X_test_sqncs))\n",
    "print(X_test_padded.shape)"
   ]
  },
  {
   "cell_type": "code",
   "execution_count": 20,
   "id": "6a10b3f5",
   "metadata": {},
   "outputs": [
    {
     "name": "stdout",
     "output_type": "stream",
     "text": [
      "[1]\n",
      "[2]\n",
      "[3]\n",
      "(1192, 1)\n",
      "[4]\n",
      "[3]\n",
      "[3]\n",
      "(298, 1)\n"
     ]
    }
   ],
   "source": [
    "label_tokenizer = Tokenizer()\n",
    "label_tokenizer.fit_on_texts(df.Category)\n",
    "label_index = label_tokenizer.word_index\n",
    "\n",
    "y_train_label_sqncs = np.array(label_tokenizer.texts_to_sequences(y_train))\n",
    "y_test_label_sqncs = np.array(label_tokenizer.texts_to_sequences(y_test))\n",
    "\n",
    "print(y_train_label_sqncs[0])\n",
    "print(y_train_label_sqncs[1])\n",
    "print(y_train_label_sqncs[2])\n",
    "print(y_train_label_sqncs.shape)\n",
    "\n",
    "print(y_test_label_sqncs[0])\n",
    "print(y_test_label_sqncs[1])\n",
    "print(y_test_label_sqncs[2])\n",
    "print(y_test_label_sqncs.shape)"
   ]
  },
  {
   "cell_type": "code",
   "execution_count": 21,
   "id": "817508af",
   "metadata": {},
   "outputs": [
    {
     "data": {
      "text/plain": [
       "22765"
      ]
     },
     "execution_count": 21,
     "metadata": {},
     "output_type": "execute_result"
    }
   ],
   "source": [
    "len(word_index)"
   ]
  },
  {
   "cell_type": "code",
   "execution_count": 22,
   "id": "b03f952b",
   "metadata": {},
   "outputs": [
    {
     "data": {
      "text/plain": [
       "{'<OOV>': 1,\n",
       " 'said': 2,\n",
       " 'mr': 3,\n",
       " 'would': 4,\n",
       " 'year': 5,\n",
       " 'also': 6,\n",
       " 'new': 7,\n",
       " 'people': 8,\n",
       " 'us': 9,\n",
       " 'one': 10,\n",
       " 'could': 11,\n",
       " 'first': 12,\n",
       " 'two': 13,\n",
       " 'last': 14,\n",
       " 'time': 15}"
      ]
     },
     "execution_count": 22,
     "metadata": {},
     "output_type": "execute_result"
    }
   ],
   "source": [
    "dict(list(word_index.items())[0:15]) #showing only the first 15 elements of the word_index dictionary"
   ]
  },
  {
   "cell_type": "code",
   "execution_count": 23,
   "id": "f6fe4289",
   "metadata": {},
   "outputs": [
    {
     "data": {
      "text/plain": [
       "{'sport': 1, 'business': 2, 'politics': 3, 'entertainment': 4, 'tech': 5}"
      ]
     },
     "execution_count": 23,
     "metadata": {},
     "output_type": "execute_result"
    }
   ],
   "source": [
    "label_index"
   ]
  },
  {
   "cell_type": "code",
   "execution_count": 24,
   "id": "5325f594",
   "metadata": {},
   "outputs": [
    {
     "name": "stdout",
     "output_type": "stream",
     "text": [
      "Model: \"sequential\"\n",
      "_________________________________________________________________\n",
      " Layer (type)                Output Shape              Param #   \n",
      "=================================================================\n",
      " embedding (Embedding)       (None, 256, 32)           480000    \n",
      "                                                                 \n",
      " global_average_pooling1d (G  (None, 32)               0         \n",
      " lobalAveragePooling1D)                                          \n",
      "                                                                 \n",
      " dense (Dense)               (None, 128)               4224      \n",
      "                                                                 \n",
      " dense_1 (Dense)             (None, 6)                 774       \n",
      "                                                                 \n",
      "=================================================================\n",
      "Total params: 484,998\n",
      "Trainable params: 484,998\n",
      "Non-trainable params: 0\n",
      "_________________________________________________________________\n"
     ]
    }
   ],
   "source": [
    "model = tf.keras.Sequential([\n",
    "    tf.keras.layers.Embedding(vocab_size, embedding_dim, input_length=max_length),\n",
    "    tf.keras.layers.GlobalAveragePooling1D(),\n",
    "    tf.keras.layers.Dense(128, activation='relu'),\n",
    "    tf.keras.layers.Dense(6, activation='softmax')\n",
    "])\n",
    "model.compile(loss='sparse_categorical_crossentropy',optimizer='adam',metrics=['accuracy'])\n",
    "model.summary()"
   ]
  },
  {
   "cell_type": "code",
   "execution_count": 25,
   "id": "e199aefa",
   "metadata": {},
   "outputs": [
    {
     "name": "stdout",
     "output_type": "stream",
     "text": [
      "Epoch 1/35\n",
      "38/38 - 2s - loss: 1.7566 - accuracy: 0.3305 - val_loss: 1.7023 - val_accuracy: 0.3758 - 2s/epoch - 58ms/step\n",
      "Epoch 2/35\n",
      "38/38 - 1s - loss: 1.6040 - accuracy: 0.4169 - val_loss: 1.4921 - val_accuracy: 0.4732 - 578ms/epoch - 15ms/step\n",
      "Epoch 3/35\n",
      "38/38 - 1s - loss: 1.3179 - accuracy: 0.6477 - val_loss: 1.1798 - val_accuracy: 0.6745 - 580ms/epoch - 15ms/step\n",
      "Epoch 4/35\n",
      "38/38 - 1s - loss: 0.9654 - accuracy: 0.7869 - val_loss: 0.8375 - val_accuracy: 0.8691 - 588ms/epoch - 15ms/step\n",
      "Epoch 5/35\n",
      "38/38 - 1s - loss: 0.6211 - accuracy: 0.9379 - val_loss: 0.5588 - val_accuracy: 0.9362 - 610ms/epoch - 16ms/step\n",
      "Epoch 6/35\n",
      "38/38 - 1s - loss: 0.3635 - accuracy: 0.9698 - val_loss: 0.3605 - val_accuracy: 0.9664 - 576ms/epoch - 15ms/step\n",
      "Epoch 7/35\n",
      "38/38 - 1s - loss: 0.2118 - accuracy: 0.9874 - val_loss: 0.2544 - val_accuracy: 0.9799 - 578ms/epoch - 15ms/step\n",
      "Epoch 8/35\n",
      "38/38 - 1s - loss: 0.1319 - accuracy: 0.9950 - val_loss: 0.1954 - val_accuracy: 0.9799 - 588ms/epoch - 15ms/step\n",
      "Epoch 9/35\n",
      "38/38 - 1s - loss: 0.0864 - accuracy: 0.9958 - val_loss: 0.1593 - val_accuracy: 0.9765 - 567ms/epoch - 15ms/step\n",
      "Epoch 10/35\n",
      "38/38 - 1s - loss: 0.0602 - accuracy: 0.9983 - val_loss: 0.1356 - val_accuracy: 0.9765 - 569ms/epoch - 15ms/step\n",
      "Epoch 11/35\n",
      "38/38 - 1s - loss: 0.0431 - accuracy: 1.0000 - val_loss: 0.1198 - val_accuracy: 0.9765 - 580ms/epoch - 15ms/step\n",
      "Epoch 12/35\n",
      "38/38 - 1s - loss: 0.0322 - accuracy: 1.0000 - val_loss: 0.1076 - val_accuracy: 0.9732 - 583ms/epoch - 15ms/step\n",
      "Epoch 13/35\n",
      "38/38 - 1s - loss: 0.0247 - accuracy: 1.0000 - val_loss: 0.0994 - val_accuracy: 0.9765 - 569ms/epoch - 15ms/step\n",
      "Epoch 14/35\n",
      "38/38 - 1s - loss: 0.0198 - accuracy: 1.0000 - val_loss: 0.0930 - val_accuracy: 0.9765 - 589ms/epoch - 15ms/step\n",
      "Epoch 15/35\n",
      "38/38 - 1s - loss: 0.0159 - accuracy: 1.0000 - val_loss: 0.0882 - val_accuracy: 0.9799 - 573ms/epoch - 15ms/step\n",
      "Epoch 16/35\n",
      "38/38 - 1s - loss: 0.0132 - accuracy: 1.0000 - val_loss: 0.0845 - val_accuracy: 0.9799 - 587ms/epoch - 15ms/step\n",
      "Epoch 17/35\n",
      "38/38 - 1s - loss: 0.0111 - accuracy: 1.0000 - val_loss: 0.0808 - val_accuracy: 0.9799 - 565ms/epoch - 15ms/step\n",
      "Epoch 18/35\n",
      "38/38 - 1s - loss: 0.0093 - accuracy: 1.0000 - val_loss: 0.0776 - val_accuracy: 0.9799 - 586ms/epoch - 15ms/step\n",
      "Epoch 19/35\n",
      "38/38 - 1s - loss: 0.0080 - accuracy: 1.0000 - val_loss: 0.0749 - val_accuracy: 0.9799 - 562ms/epoch - 15ms/step\n",
      "Epoch 20/35\n",
      "38/38 - 1s - loss: 0.0070 - accuracy: 1.0000 - val_loss: 0.0737 - val_accuracy: 0.9799 - 621ms/epoch - 16ms/step\n",
      "Epoch 21/35\n",
      "38/38 - 1s - loss: 0.0061 - accuracy: 1.0000 - val_loss: 0.0713 - val_accuracy: 0.9799 - 624ms/epoch - 16ms/step\n",
      "Epoch 22/35\n",
      "38/38 - 1s - loss: 0.0054 - accuracy: 1.0000 - val_loss: 0.0705 - val_accuracy: 0.9799 - 635ms/epoch - 17ms/step\n",
      "Epoch 23/35\n",
      "38/38 - 1s - loss: 0.0048 - accuracy: 1.0000 - val_loss: 0.0685 - val_accuracy: 0.9799 - 618ms/epoch - 16ms/step\n",
      "Epoch 24/35\n",
      "38/38 - 1s - loss: 0.0043 - accuracy: 1.0000 - val_loss: 0.0677 - val_accuracy: 0.9799 - 669ms/epoch - 18ms/step\n",
      "Epoch 25/35\n",
      "38/38 - 1s - loss: 0.0038 - accuracy: 1.0000 - val_loss: 0.0665 - val_accuracy: 0.9799 - 725ms/epoch - 19ms/step\n",
      "Epoch 26/35\n",
      "38/38 - 1s - loss: 0.0035 - accuracy: 1.0000 - val_loss: 0.0652 - val_accuracy: 0.9799 - 666ms/epoch - 18ms/step\n",
      "Epoch 27/35\n",
      "38/38 - 1s - loss: 0.0031 - accuracy: 1.0000 - val_loss: 0.0643 - val_accuracy: 0.9799 - 665ms/epoch - 18ms/step\n",
      "Epoch 28/35\n",
      "38/38 - 1s - loss: 0.0029 - accuracy: 1.0000 - val_loss: 0.0636 - val_accuracy: 0.9799 - 675ms/epoch - 18ms/step\n",
      "Epoch 29/35\n",
      "38/38 - 1s - loss: 0.0026 - accuracy: 1.0000 - val_loss: 0.0628 - val_accuracy: 0.9799 - 627ms/epoch - 17ms/step\n",
      "Epoch 30/35\n",
      "38/38 - 1s - loss: 0.0024 - accuracy: 1.0000 - val_loss: 0.0624 - val_accuracy: 0.9799 - 619ms/epoch - 16ms/step\n",
      "Epoch 31/35\n",
      "38/38 - 1s - loss: 0.0022 - accuracy: 1.0000 - val_loss: 0.0618 - val_accuracy: 0.9799 - 634ms/epoch - 17ms/step\n",
      "Epoch 32/35\n",
      "38/38 - 1s - loss: 0.0020 - accuracy: 1.0000 - val_loss: 0.0606 - val_accuracy: 0.9799 - 613ms/epoch - 16ms/step\n",
      "Epoch 33/35\n",
      "38/38 - 1s - loss: 0.0019 - accuracy: 1.0000 - val_loss: 0.0599 - val_accuracy: 0.9799 - 621ms/epoch - 16ms/step\n",
      "Epoch 34/35\n",
      "38/38 - 1s - loss: 0.0018 - accuracy: 1.0000 - val_loss: 0.0599 - val_accuracy: 0.9799 - 613ms/epoch - 16ms/step\n",
      "Epoch 35/35\n",
      "38/38 - 1s - loss: 0.0016 - accuracy: 1.0000 - val_loss: 0.0594 - val_accuracy: 0.9799 - 616ms/epoch - 16ms/step\n"
     ]
    }
   ],
   "source": [
    "num_epochs = 35\n",
    "history = model.fit(X_train_padded, y_train_label_sqncs, epochs=num_epochs, validation_data=(X_test_padded, y_test_label_sqncs), verbose=2)"
   ]
  },
  {
   "cell_type": "code",
   "execution_count": 26,
   "id": "4ed7bd3d",
   "metadata": {},
   "outputs": [
    {
     "name": "stdout",
     "output_type": "stream",
     "text": [
      "10/10 [==============================] - 0s 4ms/step\n"
     ]
    }
   ],
   "source": [
    "y_pred = model.predict(X_test_padded)"
   ]
  },
  {
   "cell_type": "code",
   "execution_count": 27,
   "id": "1944c539",
   "metadata": {},
   "outputs": [
    {
     "data": {
      "text/plain": [
       "array([4, 3, 3, 5, 5, 2, 5, 4, 2, 5, 3, 4, 2, 1, 5, 3, 2, 1, 3, 2, 5, 4,\n",
       "       1, 2, 1, 5, 2, 1, 5, 2, 1, 2, 2, 3, 1, 5, 4, 2, 4, 2, 1, 2, 3, 2,\n",
       "       1, 2, 3, 5, 3, 2, 1, 1, 2, 1, 3, 4, 4, 3, 2, 4, 5, 2, 4, 5, 5, 5,\n",
       "       2, 5, 3, 3, 3, 1, 1, 1, 4, 4, 2, 3, 2, 2, 2, 1, 1, 1, 2, 4, 1, 2,\n",
       "       2, 5, 4, 3, 3, 5, 2, 3, 5, 5, 4, 3, 4, 3, 4, 1, 5, 1, 3, 1, 2, 5,\n",
       "       5, 2, 5, 4, 5, 2, 3, 2, 4, 2, 3, 1, 2, 3, 2, 2, 5, 5, 3, 4, 2, 1,\n",
       "       4, 1, 2, 3, 2, 4, 2, 4, 2, 4, 5, 1, 4, 3, 2, 5, 3, 2, 1, 2, 5, 1,\n",
       "       4, 5, 5, 1, 5, 1, 1, 3, 2, 2, 3, 3, 5, 1, 1, 5, 3, 5, 5, 4, 2, 5,\n",
       "       4, 1, 2, 2, 1, 1, 5, 4, 4, 2, 5, 5, 4, 3, 1, 1, 3, 5, 1, 1, 3, 1,\n",
       "       1, 2, 4, 3, 1, 4, 2, 1, 5, 5, 2, 2, 1, 3, 2, 4, 1, 3, 3, 1, 5, 3,\n",
       "       1, 5, 2, 2, 4, 5, 2, 3, 3, 3, 3, 1, 1, 2, 2, 5, 2, 1, 1, 3, 3, 4,\n",
       "       4, 4, 2, 2, 4, 4, 1, 4, 4, 3, 5, 1, 3, 5, 4, 1, 5, 2, 2, 3, 5, 5,\n",
       "       5, 1, 1, 2, 3, 4, 1, 1, 5, 1, 1, 3, 1, 1, 2, 3, 4, 2, 2, 3, 2, 2,\n",
       "       2, 5, 3, 4, 2, 2, 2, 2, 3, 4, 5, 4], dtype=int64)"
      ]
     },
     "execution_count": 27,
     "metadata": {},
     "output_type": "execute_result"
    }
   ],
   "source": [
    "classes_x=np.argmax(y_pred,axis=1)\n",
    "classes_x"
   ]
  },
  {
   "cell_type": "code",
   "execution_count": 28,
   "id": "e5d1a187",
   "metadata": {},
   "outputs": [
    {
     "data": {
      "text/plain": [
       "<matplotlib.legend.Legend at 0x15db4137c70>"
      ]
     },
     "execution_count": 28,
     "metadata": {},
     "output_type": "execute_result"
    },
    {
     "data": {
      "image/png": "[encoded data removed]",
      "text/plain": [
       "<Figure size 864x432 with 1 Axes>"
      ]
     },
     "metadata": {},
     "output_type": "display_data"
    }
   ],
   "source": [
    "plt.figure(figsize=(12,6))\n",
    "plt.plot(history.history['accuracy'])\n",
    "plt.plot(history.history['val_accuracy'])\n",
    "plt.xlabel(\"Epochs\")\n",
    "plt.ylabel('Accuracy')\n",
    "plt.legend(['accuracy', 'val_accuracy'])"
   ]
  },
  {
   "cell_type": "code",
   "execution_count": 29,
   "id": "c9a31061",
   "metadata": {},
   "outputs": [
    {
     "data": {
      "text/plain": [
       "<matplotlib.legend.Legend at 0x15db419a730>"
      ]
     },
     "execution_count": 29,
     "metadata": {},
     "output_type": "execute_result"
    },
    {
     "data": {
      "image/png": "[encoded data removed]",
      "text/plain": [
       "<Figure size 864x432 with 1 Axes>"
      ]
     },
     "metadata": {},
     "output_type": "display_data"
    }
   ],
   "source": [
    "plt.figure(figsize=(12,6))\n",
    "plt.plot(history.history['loss'])\n",
    "plt.plot(history.history['val_loss'])\n",
    "plt.xlabel(\"Epochs\")\n",
    "plt.ylabel('Loss')\n",
    "plt.legend(['loss', 'val_loss'])"
   ]
  },
  {
   "cell_type": "code",
   "execution_count": 30,
   "id": "08e60c3d",
   "metadata": {},
   "outputs": [],
   "source": [
    "reverse_word_index = dict([(value, key) for (key, value) in word_index.items()])\n",
    "\n",
    "def decode_content(text):\n",
    "    return ' '.join([reverse_word_index.get(i, '?') for i in text])\n",
    "\n",
    "reverse_label_index = dict([(value, key) for (key, value) in label_index.items()])\n",
    "\n",
    "def decode_labels(text):\n",
    "    text = np.array([text])\n",
    "    return ' '.join([reverse_label_index.get(i, '?') for i in text])"
   ]
  },
  {
   "cell_type": "code",
   "execution_count": 31,
   "id": "2ce8efaa",
   "metadata": {},
   "outputs": [
    {
     "data": {
      "text/plain": [
       "'howard taunts blair splits tony blair feud gordon brown damaging way uk governed  tory leader michael howard claimed heated prime minister questions.  mr howard asked:  fight crime fighting   question later unveiled headline new tory campaign posters. mr blair dismissed talk splits said people priorities next elections would economic successes achieved labour.  stick whatever likes billboards something book public concentrate low mortgages  low inflation  low unemployment delivered failed   said. chancellor currently high-profile tour africa highlight new anti-poverty plans.  insisted still trusted mr blair  despite claims contrary new book.  brown britain  robert peston  says mutual animosity two men. claims mr blair said november 2003 would stand prime minister next election. went back pledge support cabinet allies suspicion mr brown manoeuvring  says.  mr peston book claimed mr brown told mr blair:  nothing could ever say could ever believe.  mr blair directly denied quote wednesday. insisted could deals premiership twice declined directly say whether offered quit.  tory leader countered agreements struck twice dinners chancellor. declared:  deals meals prime minister. wonder chancellor happy eater.  continued:  discipline schools discipline government  clean hospitals clean act   mr blair said would respond  tittle tattle books  promised hail labour record economy  waiting lists law order  polling day . later poster launch tory co-chairman liam fox said party would exploit opportunities show  juvenile  prime minister chancellor were.  labour staged show unity poster launch tuesday  mr brown joined alan milburn  mr blair controversially put charge election planning place chancellor. liberal democrat leader charles kennedy told bbc news:  government clearly split top. kind cosmetic exercise persuade anybody.  later week mr blair expected outline direction party next election manifesto. prime minister chancellor faced backbench discontent monday meeting parliamentary labour party claims made mr peston book.'"
      ]
     },
     "execution_count": 31,
     "metadata": {},
     "output_type": "execute_result"
    }
   ],
   "source": [
    "X_test[1]"
   ]
  },
  {
   "cell_type": "code",
   "execution_count": 32,
   "id": "c6e9f86b",
   "metadata": {},
   "outputs": [
    {
     "data": {
      "text/plain": [
       "'politics'"
      ]
     },
     "execution_count": 32,
     "metadata": {},
     "output_type": "execute_result"
    }
   ],
   "source": [
    "y_test[1]"
   ]
  },
  {
   "cell_type": "code",
   "execution_count": 33,
   "id": "227c5441",
   "metadata": {},
   "outputs": [
    {
     "data": {
      "text/plain": [
       "'chelsea <OOV> complaint barcelona assistant coach <OOV> ten cate branded chelsea expected complaint uefa pathetic blues poised complain alleged half time incident wednesday 2 1 loss nou camp source chelsea anger alleged talk barca boss frank <OOV> referee <OOV> <OOV> later dismissed didier drogba react way chelsea pathetic mourinho lied line ups ten cate said uefa said tunnel representative witnessed nothing unusual ordinary half time break spokesman william <OOV> said <OOV> says <OOV> greeted apologised opportunity say <OOV> game two uefa officials neither witnessed it referee dressing room locked and assistants people allowed in indeed londoners could receiving end punishment failing turn compulsory press conference defeat uefa <OOV> thomas <OOV> added unusual thing happened far concerned chelsea failed present press conference referee expected include alleged incidents report uefa weakening chelsea case <OOV> critical mourinho decision speak media match lot talking game surprisingly lot talking game good behaviour match said maybe want start something make worse than is really understand it calm it barca midfielder <OOV> formerly managed mourinho porto agreed typical fellow portuguese lodge protest normal behaviour part logical give news conference said <OOV> added chelsea team conceded <OOV> goals english league defend well pleased win men deserved victory pleased match <OOV> players ? ? ? ? ? ? ? ? ? ? ? ? ? ? ? ? ? ? ? ? ? ? ? ? ? ? ? ? ? ? ? ? ? ? ? ? ? ? ? ? ? ? ? ? ? ? ? ? ? ? ? ? ?'"
      ]
     },
     "execution_count": 33,
     "metadata": {},
     "output_type": "execute_result"
    }
   ],
   "source": [
    "decode_content(X_test_padded[34])"
   ]
  },
  {
   "cell_type": "code",
   "execution_count": 34,
   "id": "b730461f",
   "metadata": {},
   "outputs": [],
   "source": [
    "X_test_sqncs1 = tokenizer.texts_to_sequences(['howard taunts blair splits tony blair feud gordon brown damaging way uk governed  tory leader michael howard claimed heated prime minister questions.  mr howard asked:  fight crime fighting   question later unveiled headline new tory campaign posters. mr blair dismissed talk splits said people priorities next elections would economic successes achieved labour.  stick whatever likes billboards something book public concentrate low mortgages  low inflation  low unemployment delivered failed   said. chancellor currently high-profile tour africa highlight new anti-poverty plans.  insisted still trusted mr blair  despite claims contrary new book.  brown britain  robert peston  says mutual animosity two men. claims mr blair said november 2003 would stand prime minister next election. went back pledge support cabinet allies suspicion mr brown manoeuvring  says.  mr peston book claimed mr brown told mr blair:  nothing could ever say could ever believe.  mr blair directly denied quote wednesday. insisted could deals premiership twice declined directly say whether offered quit.  tory leader countered agreements struck twice dinners chancellor. declared:  deals meals prime minister. wonder chancellor happy eater.  continued:  discipline schools discipline government  clean hospitals clean act   mr blair said would respond  tittle tattle books  promised hail labour record economy  waiting lists law order  polling day . later poster launch tory co-chairman liam fox said party would exploit opportunities show  juvenile  prime minister chancellor were.  labour staged show unity poster launch tuesday  mr brown joined alan milburn  mr blair controversially put charge election planning place chancellor. liberal democrat leader charles kennedy told bbc news:  government clearly split top. kind cosmetic exercise persuade anybody.  later week mr blair expected outline direction party next election manifesto. prime minister chancellor faced backbench discontent monday meeting parliamentary labour party claims made mr peston book.'])\n",
    "X_test_padded1 = pad_sequences(X_test_sqncs1, padding=padding_type, maxlen=max_length)"
   ]
  },
  {
   "cell_type": "code",
   "execution_count": 35,
   "id": "64b7a3da",
   "metadata": {},
   "outputs": [
    {
     "name": "stdout",
     "output_type": "stream",
     "text": [
      "1/1 [==============================] - 0s 47ms/step\n"
     ]
    }
   ],
   "source": [
    "y_pred1 = model.predict(X_test_padded1)"
   ]
  },
  {
   "cell_type": "code",
   "execution_count": 36,
   "id": "2f47101a",
   "metadata": {},
   "outputs": [
    {
     "data": {
      "text/plain": [
       "array([3], dtype=int64)"
      ]
     },
     "execution_count": 36,
     "metadata": {},
     "output_type": "execute_result"
    }
   ],
   "source": [
    "classes_x1=np.argmax(y_pred1,axis=1)\n",
    "classes_x1"
   ]
  },
  {
   "cell_type": "code",
   "execution_count": 38,
   "id": "4bdafc1c",
   "metadata": {},
   "outputs": [
    {
     "name": "stdout",
     "output_type": "stream",
     "text": [
      "Politics\n"
     ]
    }
   ],
   "source": [
    "if 1 in classes_x1:\n",
    "    print('sports')\n",
    "if 2 in classes_x1:\n",
    "    print('Business')\n",
    "if 3 in classes_x1:\n",
    "    print('Politics')\n",
    "if 4 in classes_x1:\n",
    "    print('Entertainment')\n",
    "if 5 in classes_x1:\n",
    "    print('Tech')"
   ]
  }
 ],
 "metadata": {
  "kernelspec": {
   "display_name": "Python 3 (ipykernel)",
   "language": "python",
   "name": "python3"
  },
  "language_info": {
   "codemirror_mode": {
    "name": "ipython",
    "version": 3
   },
   "file_extension": ".py",
   "mimetype": "text/x-python",
   "name": "python",
   "nbconvert_exporter": "python",
   "pygments_lexer": "ipython3",
   "version": "3.11.5"
  }
 },
 "nbformat": 4,
 "nbformat_minor": 5
}
